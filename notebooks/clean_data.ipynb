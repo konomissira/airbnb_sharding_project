{
 "cells": [
  {
   "cell_type": "code",
   "execution_count": 2,
   "id": "56b16518-0629-4742-ad0e-9e1597b00b35",
   "metadata": {},
   "outputs": [
    {
     "name": "stdout",
     "output_type": "stream",
     "text": [
      "Cleaned data saved.\n"
     ]
    }
   ],
   "source": [
    "import pandas as pd\n",
    "\n",
    "# Load raw data\n",
    "data = pd.read_csv(\"../data/airbnb_listings_london.csv\")\n",
    "\n",
    "# Drop empty columns\n",
    "data.drop(columns=['neighbourhood_group', 'license'], inplace=True)\n",
    "\n",
    "# Fill missing prices by room_type median\n",
    "data['price'] = data.groupby('room_type')['price'].transform(lambda x: x.fillna(x.median()))\n",
    "\n",
    "# Drop rows with remaining missing values in last_review and reviews_per_month\n",
    "data.dropna(subset=['price'], inplace=True)\n",
    "\n",
    "# Save cleaned data\n",
    "data.to_csv(\"../data/cleaned_airbnb_listings.csv\", index=False)\n",
    "\n",
    "print(\"Cleaned data saved.\")\n"
   ]
  },
  {
   "cell_type": "code",
   "execution_count": null,
   "id": "406be6fd-0948-406c-a033-d6b360f2fea3",
   "metadata": {},
   "outputs": [],
   "source": []
  }
 ],
 "metadata": {
  "kernelspec": {
   "display_name": "Python 3 (ipykernel)",
   "language": "python",
   "name": "python3"
  },
  "language_info": {
   "codemirror_mode": {
    "name": "ipython",
    "version": 3
   },
   "file_extension": ".py",
   "mimetype": "text/x-python",
   "name": "python",
   "nbconvert_exporter": "python",
   "pygments_lexer": "ipython3",
   "version": "3.11.7"
  }
 },
 "nbformat": 4,
 "nbformat_minor": 5
}
